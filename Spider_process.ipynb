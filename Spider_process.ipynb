{
 "cells": [
  {
   "cell_type": "code",
   "execution_count": null,
   "id": "300d49b1",
   "metadata": {},
   "outputs": [],
   "source": [
    "import scrapy\n",
    "from scrapy.crawler import CrawlerProcess\n",
    "\n",
    "from scrapy.utils.log import configure_logging\n"
   ]
  },
  {
   "cell_type": "code",
   "execution_count": null,
   "id": "94d48f6a",
   "metadata": {},
   "outputs": [],
   "source": [
    "from twisted.internet import reactor"
   ]
  },
  {
   "cell_type": "code",
   "execution_count": null,
   "id": "5e099919",
   "metadata": {},
   "outputs": [],
   "source": [
    "'''\n",
    "The program should read domain names on STDIN and write a CSV of domain and logo URL to STDOUT.\n",
    "'''\n",
    "\n",
    "class MySpider(scrapy.Spider):\n",
    "    name = \"logo_stealer\"\n",
    "    start_urls = ['website.csv']\n",
    "    \n",
    "    def parse(self, response):\n",
    "        raw_logo_urls = response.css('.image img ::atr(src)').getall()\n",
    "        clean_logo_urls = []\n",
    "        \n",
    "        for raw_logo_url in raw_logo_urls:\n",
    "            clean_logo_urls.append(response.urljoin(raw_logo_url))\n",
    "            \n",
    "        yield {\n",
    "            'image_urls' : clean_logo_urls\n",
    "        }\n",
    "\n"
   ]
  },
  {
   "cell_type": "code",
   "execution_count": null,
   "id": "194cdce4",
   "metadata": {},
   "outputs": [],
   "source": [
    "class MySpider2(scrapy.Spider):\n",
    "    # Your second spider definition\n",
    "    ...\n"
   ]
  },
  {
   "cell_type": "code",
   "execution_count": null,
   "id": "7707ea5b",
   "metadata": {},
   "outputs": [],
   "source": [
    "\n",
    "process = CrawlerProcess(settings={\n",
    "    \"FEEDS\": {\n",
    "        \"items.json\": {\"format\": \"json\"},               #crawled data is stored in items.json\n",
    "    },\n",
    "})\n"
   ]
  },
  {
   "cell_type": "code",
   "execution_count": null,
   "id": "e95ce422",
   "metadata": {},
   "outputs": [],
   "source": [
    "process.crawl(MySpider1)\n",
    "process.crawl(MySpider2)\n",
    "process.start() # the script will block here until all crawling jobs are finished"
   ]
  },
  {
   "cell_type": "code",
   "execution_count": null,
   "id": "cebe0785",
   "metadata": {},
   "outputs": [],
   "source": []
  },
  {
   "cell_type": "code",
   "execution_count": null,
   "id": "99e92ef3",
   "metadata": {},
   "outputs": [],
   "source": []
  }
 ],
 "metadata": {
  "kernelspec": {
   "display_name": "Python 3 (ipykernel)",
   "language": "python",
   "name": "python3"
  },
  "language_info": {
   "codemirror_mode": {
    "name": "ipython",
    "version": 3
   },
   "file_extension": ".py",
   "mimetype": "text/x-python",
   "name": "python",
   "nbconvert_exporter": "python",
   "pygments_lexer": "ipython3",
   "version": "3.8.10"
  }
 },
 "nbformat": 4,
 "nbformat_minor": 5
}
